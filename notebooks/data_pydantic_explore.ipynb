{
 "cells": [
  {
   "cell_type": "code",
   "execution_count": 2,
   "id": "63d4b9d9-7350-4381-8040-8a7c8e3e1555",
   "metadata": {
    "tags": []
   },
   "outputs": [],
   "source": [
    "from typing import Optional, Dict, List, Tuple\n",
    "import json\n",
    "import pandas as pd\n",
    "import requests\n",
    "from sqlmodel import SQLModel, create_engine, Field, Session, select\n",
    "from pydantic import validator\n",
    "\n",
    "pd.set_option('display.max_rows', 1000)"
   ]
  },
  {
   "cell_type": "code",
   "execution_count": 3,
   "id": "244c0eba-675e-42c7-b7a0-585be1692de5",
   "metadata": {
    "tags": []
   },
   "outputs": [],
   "source": [
    "class BasicModel(SQLModel, table=True):\n",
    "    id: Optional[int] = Field(default=None, primary_key=True)\n",
    "    name: str\n",
    "    # _clean_name = validator('name', pre=True, allow_reuse=True)(braces_validator)\n",
    "    age: int\n",
    "    interests: str\n",
    "    # _interests: validator('interests', pre=True, allow_reuse=True)(interests_validator)\n",
    "    \n",
    "@validator('name')\n",
    "def braces_validator(input_str: str) -> str:\n",
    "    if any([braces in input_str for braces in ['{', '}']]):\n",
    "        raise ValueError('Must contain a brace character. Example : { or }')\n",
    "    braces = ['{', '}']\n",
    "    for brace in braces:\n",
    "        input_str = input_str.replace(brace, '')\n",
    "    return input_str\n",
    "\n",
    "@validator('interests')\n",
    "def interests_validator(input_str: str) -> str:\n",
    "    str_list = [s.strip() for s in input_str.split(',')]\n",
    "    return json.dumps(str_list)"
   ]
  },
  {
   "cell_type": "code",
   "execution_count": 4,
   "id": "e14717c8-4ed5-4983-9ec6-ad117457cf56",
   "metadata": {
    "tags": []
   },
   "outputs": [
    {
     "name": "stdout",
     "output_type": "stream",
     "text": [
      "2023-03-17 22:41:02,123 INFO sqlalchemy.engine.Engine BEGIN (implicit)\n",
      "2023-03-17 22:41:02,124 INFO sqlalchemy.engine.Engine PRAGMA main.table_info(\"basicmodel\")\n",
      "2023-03-17 22:41:02,124 INFO sqlalchemy.engine.Engine [raw sql] ()\n",
      "2023-03-17 22:41:02,125 INFO sqlalchemy.engine.Engine COMMIT\n"
     ]
    }
   ],
   "source": [
    "sqlite_file_name = \"database.db\"\n",
    "sqlite_url = f\"sqlite:///{sqlite_file_name}\"\n",
    "engine = create_engine(sqlite_url, echo=True)\n",
    "\n",
    "def create_db_and_tables():\n",
    "    SQLModel.metadata.create_all(engine)\n",
    "create_db_and_tables()"
   ]
  },
  {
   "cell_type": "code",
   "execution_count": 5,
   "id": "fb7aa3eb-3001-4cdf-9053-54197deffcc7",
   "metadata": {
    "tags": []
   },
   "outputs": [
    {
     "data": {
      "text/plain": [
       "BasicModel(id=None, name='{Rick}', age=34, interests='hockey, football, pole dancing')"
      ]
     },
     "execution_count": 5,
     "metadata": {},
     "output_type": "execute_result"
    }
   ],
   "source": [
    "obj_1 = BasicModel(\n",
    "    name = '{Rick}',\n",
    "    age = 34,\n",
    "    interests = 'hockey, football, pole dancing'\n",
    ")\n",
    "obj_1"
   ]
  },
  {
   "cell_type": "code",
   "execution_count": 6,
   "id": "a1c9629e-fba7-4097-a648-b0f4f84b882d",
   "metadata": {
    "tags": []
   },
   "outputs": [
    {
     "name": "stdout",
     "output_type": "stream",
     "text": [
      "2023-03-17 22:41:04,749 INFO sqlalchemy.engine.Engine BEGIN (implicit)\n",
      "2023-03-17 22:41:04,751 INFO sqlalchemy.engine.Engine INSERT INTO basicmodel (name, age, interests) VALUES (?, ?, ?)\n",
      "2023-03-17 22:41:04,751 INFO sqlalchemy.engine.Engine [generated in 0.00059s] ('{Rick}', 34, 'hockey, football, pole dancing')\n",
      "2023-03-17 22:41:04,753 INFO sqlalchemy.engine.Engine COMMIT\n"
     ]
    }
   ],
   "source": [
    "with Session(engine) as sess:\n",
    "    sess.add(obj_1)\n",
    "    sess.commit()"
   ]
  },
  {
   "cell_type": "code",
   "execution_count": 7,
   "id": "a93be11c-a1a4-495a-9be3-eeeec85155b9",
   "metadata": {
    "tags": []
   },
   "outputs": [
    {
     "name": "stdout",
     "output_type": "stream",
     "text": [
      "2023-03-17 22:41:07,098 INFO sqlalchemy.engine.Engine BEGIN (implicit)\n",
      "2023-03-17 22:41:07,100 INFO sqlalchemy.engine.Engine SELECT basicmodel.id, basicmodel.name, basicmodel.age, basicmodel.interests \n",
      "FROM basicmodel\n",
      "2023-03-17 22:41:07,101 INFO sqlalchemy.engine.Engine [generated in 0.00072s] ()\n",
      "interests='hockey, football, pole dancing' id=1 name='{Rick}' age=34\n",
      "2023-03-17 22:41:07,102 INFO sqlalchemy.engine.Engine ROLLBACK\n"
     ]
    }
   ],
   "source": [
    "with Session(engine) as session:\n",
    "    statement = select(BasicModel)\n",
    "    results = session.exec(statement) \n",
    "    for record in results:\n",
    "        print(record)"
   ]
  },
  {
   "cell_type": "code",
   "execution_count": 15,
   "id": "62bd5871-998f-4d6d-96fa-15c9a5220628",
   "metadata": {
    "tags": []
   },
   "outputs": [],
   "source": [
    "my_dict = {\n",
    "    'name' : 'Rick2',\n",
    "    'age' : 35,\n",
    "    'gender' : 'm'\n",
    "}"
   ]
  },
  {
   "cell_type": "code",
   "execution_count": 18,
   "id": "5926c602-a9a7-4a4e-9374-4e09235ee2c8",
   "metadata": {
    "tags": []
   },
   "outputs": [
    {
     "data": {
      "text/plain": [
       "BasicModel(id=None, name='Rick2', age=35)"
      ]
     },
     "execution_count": 18,
     "metadata": {},
     "output_type": "execute_result"
    }
   ],
   "source": [
    "obj_3 = BasicModel(**my_dict)\n",
    "obj_3"
   ]
  },
  {
   "cell_type": "code",
   "execution_count": 79,
   "id": "78b226ad-ecf5-4a62-af6b-e48d04677daa",
   "metadata": {
    "tags": []
   },
   "outputs": [
    {
     "data": {
      "text/plain": [
       "BasicModel()"
      ]
     },
     "execution_count": 79,
     "metadata": {},
     "output_type": "execute_result"
    }
   ],
   "source": [
    "obj_3"
   ]
  },
  {
   "cell_type": "code",
   "execution_count": 19,
   "id": "72a6de73-976e-4fe8-a487-00cf0bb68293",
   "metadata": {
    "tags": []
   },
   "outputs": [
    {
     "name": "stdout",
     "output_type": "stream",
     "text": [
      "2023-03-16 13:55:51,020 INFO sqlalchemy.engine.Engine BEGIN (implicit)\n",
      "2023-03-16 13:55:51,021 INFO sqlalchemy.engine.Engine INSERT INTO basicmodel (name, age) VALUES (?, ?)\n",
      "2023-03-16 13:55:51,022 INFO sqlalchemy.engine.Engine [cached since 201.2s ago] ('Rick2', 35)\n",
      "2023-03-16 13:55:51,023 INFO sqlalchemy.engine.Engine COMMIT\n"
     ]
    }
   ],
   "source": [
    "with Session(engine) as sess:\n",
    "    sess.add(obj_3)\n",
    "    sess.commit()"
   ]
  }
 ],
 "metadata": {
  "kernelspec": {
   "display_name": "dproj",
   "language": "python",
   "name": "python3"
  },
  "language_info": {
   "codemirror_mode": {
    "name": "ipython",
    "version": 3
   },
   "file_extension": ".py",
   "mimetype": "text/x-python",
   "name": "python",
   "nbconvert_exporter": "python",
   "pygments_lexer": "ipython3",
   "version": "3.11.0"
  },
  "vscode": {
   "interpreter": {
    "hash": "343f138618213bb1ab5ae62fb5b71f486e71df2f893100478ad30e5e605ba8af"
   }
  }
 },
 "nbformat": 4,
 "nbformat_minor": 5
}
