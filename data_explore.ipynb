{
 "cells": [
  {
   "cell_type": "code",
   "execution_count": null,
   "id": "c924a383-1640-4a98-8eee-07565e5b5a06",
   "metadata": {
    "tags": []
   },
   "outputs": [],
   "source": [
    "import pandas as pd\n",
    "import requests\n",
    "from collections import Counter\n",
    "from models import FilmLocations, PrivateOpenSpaces\n",
    "from get_data import (\n",
    "    insert_into_db,\n",
    "    film_locations,\n",
    "    park_scores,\n",
    "    private_open_spaces,\n",
    "    properties\n",
    ")\n",
    "\n",
    "pd.set_option('display.max_rows', 100)"
   ]
  },
  {
   "cell_type": "markdown",
   "id": "aed5175a-a03f-4c8c-bc53-d76393d4a1d2",
   "metadata": {},
   "source": [
    "## Check contents of datasets"
   ]
  },
  {
   "cell_type": "code",
   "execution_count": null,
   "id": "649a8f18-247e-4b3e-831f-44d9a2bd47c1",
   "metadata": {
    "tags": []
   },
   "outputs": [],
   "source": [
    "def check_key_counts(json_data):\n",
    "    print(f'number of records: {len(json_data)}')\n",
    "    keys = Counter()\n",
    "    for record in json_data:\n",
    "        for k in record:\n",
    "            keys[k] += 1\n",
    "    return keys"
   ]
  },
  {
   "cell_type": "code",
   "execution_count": null,
   "id": "c3e2d41e-dea0-47e4-b82f-c4a5da47ce1c",
   "metadata": {
    "tags": []
   },
   "outputs": [],
   "source": [
    "check_key_counts(film_locations)"
   ]
  },
  {
   "cell_type": "code",
   "execution_count": null,
   "id": "de29abc4-f7a0-4383-b8f3-f9a0aa06ddee",
   "metadata": {
    "tags": []
   },
   "outputs": [],
   "source": [
    "check_key_counts(park_scores)"
   ]
  },
  {
   "cell_type": "code",
   "execution_count": null,
   "id": "64f6a0c3-1a91-4ef4-8a33-5ff863f6d6ca",
   "metadata": {
    "tags": []
   },
   "outputs": [],
   "source": [
    "check_key_counts(private_open_spaces)"
   ]
  },
  {
   "cell_type": "code",
   "execution_count": null,
   "id": "b3a7492e-ee98-40da-87c8-b5295a03efed",
   "metadata": {
    "tags": []
   },
   "outputs": [],
   "source": [
    "check_key_counts(properties)"
   ]
  },
  {
   "cell_type": "markdown",
   "id": "e56e2dea-d6be-4ed8-95f6-5bc9e073ce59",
   "metadata": {},
   "source": [
    "## Explore Datasets"
   ]
  },
  {
   "cell_type": "code",
   "execution_count": null,
   "id": "484c199f-67bb-4985-a320-01d1cb24a850",
   "metadata": {
    "tags": []
   },
   "outputs": [],
   "source": [
    "film_locations_df = pd.DataFrame(film_locations)\n",
    "park_scores_df = pd.DataFrame(park_scores)\n",
    "private_open_spaces_df = pd.DataFrame(private_open_spaces)\n",
    "properties_df = pd.DataFrame(properties)"
   ]
  },
  {
   "cell_type": "markdown",
   "id": "b456b9d2-3848-4976-9317-39f3b08980d6",
   "metadata": {},
   "source": [
    "\n",
    "`park_scores` and `properties` might be able to be joined with `park_scores.parkid` = `properties.tma_propertyid`. \n"
   ]
  },
  {
   "cell_type": "code",
   "execution_count": null,
   "id": "bf1b4835-c1ab-4708-9a6f-592aa1583e86",
   "metadata": {
    "tags": []
   },
   "outputs": [],
   "source": [
    "park_scores_and_prop_df = park_scores_df.set_index('parkid').join(properties_df.set_index('tma_propertyid'), rsuffix='_prop')\n",
    "park_scores_and_prop_df"
   ]
  },
  {
   "cell_type": "code",
   "execution_count": null,
   "id": "246be488-56ff-4740-9e79-9e64b1aec6cb",
   "metadata": {
    "tags": []
   },
   "outputs": [],
   "source": [
    "private_open_spaces_df"
   ]
  },
  {
   "cell_type": "code",
   "execution_count": null,
   "id": "18c2fab1-257f-4667-9a1d-97f2e7d44ee9",
   "metadata": {
    "tags": []
   },
   "outputs": [],
   "source": [
    "park_scores_df"
   ]
  },
  {
   "cell_type": "code",
   "execution_count": null,
   "id": "cf9cdd41-9d09-4517-b4b0-f045b9f7a97d",
   "metadata": {
    "tags": []
   },
   "outputs": [],
   "source": [
    "private_open_spaces_df.set_index(':@computed_region_yftq_j783').join(park_scores_df.set_index('parkid')).to_csv('temp.csv')"
   ]
  },
  {
   "cell_type": "code",
   "execution_count": null,
   "id": "273c30f4-7945-4171-890b-ca6704ffe557",
   "metadata": {},
   "outputs": [],
   "source": []
  },
  {
   "cell_type": "code",
   "execution_count": null,
   "id": "dec613ab-7c2b-417f-a829-740bbb734130",
   "metadata": {},
   "outputs": [],
   "source": []
  },
  {
   "cell_type": "code",
   "execution_count": 4,
   "id": "499ec3dc-6f69-4659-9573-a3b0ebe62f54",
   "metadata": {
    "tags": []
   },
   "outputs": [
    {
     "data": {
      "text/plain": [
       "{'name': '1 Bush Street',\n",
       " 'popos_address': '1 Bush Street',\n",
       " 'hours': 'Open at all times',\n",
       " 'type': 'Urban Garden',\n",
       " 'landscaping': 'Willow Trees and planting. Interseting architectural design',\n",
       " 'seating_no': 'None besides steps.',\n",
       " 'food_service': 'No',\n",
       " 'art': 'Yes',\n",
       " 'restrooms': 'No',\n",
       " 'accessibility': 'Indirect',\n",
       " 'location': 'Below street level',\n",
       " 'year': '1959',\n",
       " 'description': 'This Urban Garden provides a sunken space featuring a water fountain. Space is accessed with stairs from Bush Street and curved walkways from Market street.',\n",
       " 'seating_and_tables': 'N',\n",
       " 'hours_type': 'Open At All Times',\n",
       " 'subject_to_downtown_pln': 'No',\n",
       " 'signage': 'None',\n",
       " 'block_num': '0290',\n",
       " 'lot_num': '011',\n",
       " 'parcel_num': '0290011',\n",
       " 'the_geom': {'type': 'Point', 'coordinates': [-122.40045257, 37.79098054]},\n",
       " ':@computed_region_6qbp_sg9q': '108',\n",
       " ':@computed_region_qgnn_b9vv': '6',\n",
       " ':@computed_region_26cr_cadq': '3',\n",
       " ':@computed_region_ajp5_b2md': '8',\n",
       " ':@computed_region_rxqg_mtj9': '10',\n",
       " ':@computed_region_yftq_j783': '4',\n",
       " ':@computed_region_jx4q_fizf': '1',\n",
       " ':@computed_region_bh8s_q3mv': '28854',\n",
       " ':@computed_region_jwn9_ihcz': '108',\n",
       " 'latitude': -122.40045257,\n",
       " 'longitude': 37.79098054,\n",
       " 'sf_find_neighborhoods': '108',\n",
       " 'current_police_districts': '6',\n",
       " 'current_supervisor_districts': '3',\n",
       " 'analysis_neighborhoods': '8'}"
      ]
     },
     "execution_count": 4,
     "metadata": {},
     "output_type": "execute_result"
    }
   ],
   "source": [
    "ps =private_open_spaces[0]\n",
    "ps"
   ]
  },
  {
   "cell_type": "code",
   "execution_count": 5,
   "id": "de42d6c7-3b2d-44fc-bd89-372f53afbdc8",
   "metadata": {
    "tags": []
   },
   "outputs": [
    {
     "data": {
      "text/plain": [
       "PrivateOpenSpaces(id=None, name='1 Bush Street', popos_address='1 Bush Street', hours='Open at all times', type='Urban Garden', landscaping='Willow Trees and planting. Interseting architectural design', seating_no='None besides steps.', food_service='No', art='Yes', restrooms='No', accessibility='Indirect', location='Below street level', year=1959, description='This Urban Garden provides a sunken space featuring a water fountain. Space is accessed with stairs from Bush Street and curved walkways from Market street.', hours_type='Open At All Times', subject_to_downtown_pln='No', signage='None', block_num=290, lot_num=11, parcel_num=290011, latitude='-122.40045257', longitude='37.79098054', sf_find_neighborhoods=108, current_police_districts=6, current_supervisor_districts=3, analysis_neighborhoods=8)"
      ]
     },
     "execution_count": 5,
     "metadata": {},
     "output_type": "execute_result"
    }
   ],
   "source": [
    "PrivateOpenSpaces(**ps)"
   ]
  },
  {
   "cell_type": "code",
   "execution_count": null,
   "id": "2877d156-39f1-43ee-bee9-0519da2f7e3e",
   "metadata": {
    "tags": []
   },
   "outputs": [],
   "source": [
    "from get_data import insert_into_db"
   ]
  },
  {
   "cell_type": "code",
   "execution_count": null,
   "id": "040b541c-64d1-48fc-a185-87f9797f3a4d",
   "metadata": {
    "tags": []
   },
   "outputs": [],
   "source": [
    "fl = film_locations[0:2]\n",
    "fl"
   ]
  },
  {
   "cell_type": "code",
   "execution_count": null,
   "id": "dc4b8aa1-a95d-4a5f-9b24-8313ee47f48d",
   "metadata": {
    "tags": []
   },
   "outputs": [],
   "source": [
    "insert_into_db(fl, FilmLocations)"
   ]
  },
  {
   "cell_type": "code",
   "execution_count": null,
   "id": "d0f73486-10d4-4ee6-9e07-999c6b9c4348",
   "metadata": {
    "tags": []
   },
   "outputs": [],
   "source": [
    "film_locations_df[film_locations_df['title'].isna()]"
   ]
  },
  {
   "cell_type": "code",
   "execution_count": null,
   "id": "cfb012f1-0f80-4a05-b505-22b79c6a3c99",
   "metadata": {
    "tags": []
   },
   "outputs": [],
   "source": [
    "properties_df"
   ]
  },
  {
   "cell_type": "code",
   "execution_count": null,
   "id": "e6ffcf6e-9779-480f-be06-6ed2f9f3d79a",
   "metadata": {
    "tags": []
   },
   "outputs": [],
   "source": [
    "# film_locations_df['location_cleaned'] = film_locations_df['locations'].str.split(\"(\")[0]\n",
    "film_locations_df[['location_1', 'location_2']] = film_locations_df.locations.str.split(\"(\", expand = True)\n",
    "film_locations_df['location_2'].replace('\\)','', inplace=True, regex=True)"
   ]
  },
  {
   "cell_type": "code",
   "execution_count": null,
   "id": "0f87b7e2-30d4-49be-9516-68a73262fc33",
   "metadata": {
    "tags": []
   },
   "outputs": [],
   "source": [
    "film_locations_df"
   ]
  },
  {
   "cell_type": "code",
   "execution_count": null,
   "id": "a692fed2-6ef1-4765-975d-f59159004480",
   "metadata": {
    "tags": []
   },
   "outputs": [],
   "source": [
    "film_locations['locations'] "
   ]
  },
  {
   "cell_type": "code",
   "execution_count": null,
   "id": "76cb4a09-a563-4ab9-bbf2-ec001d135bc5",
   "metadata": {
    "tags": []
   },
   "outputs": [],
   "source": [
    "properties[0]"
   ]
  },
  {
   "cell_type": "code",
   "execution_count": null,
   "id": "d5870a0d-c744-4cbe-9562-c6650dcf3e92",
   "metadata": {
    "tags": []
   },
   "outputs": [],
   "source": [
    "private_open_spaces[0]"
   ]
  },
  {
   "cell_type": "code",
   "execution_count": null,
   "id": "f29a35de-d3e9-4585-8d49-4d4ec9e963da",
   "metadata": {},
   "outputs": [],
   "source": []
  },
  {
   "cell_type": "code",
   "execution_count": null,
   "id": "38db8722-05f2-4df0-8028-f78b234f4219",
   "metadata": {},
   "outputs": [],
   "source": []
  },
  {
   "cell_type": "code",
   "execution_count": null,
   "id": "c9c0b4c7-e595-40b2-93c1-f11cdc4e401a",
   "metadata": {},
   "outputs": [],
   "source": []
  },
  {
   "cell_type": "code",
   "execution_count": null,
   "id": "9fd8463e-40cb-4b6f-afc9-daf785588c67",
   "metadata": {
    "tags": []
   },
   "outputs": [],
   "source": [
    "coords = [-122.40045257, 37.79098054]"
   ]
  },
  {
   "cell_type": "code",
   "execution_count": null,
   "id": "835b4d4e-3f26-40b1-8ab2-4d71fa3ec89c",
   "metadata": {
    "tags": []
   },
   "outputs": [],
   "source": [
    "\" \".join([str(coord) for coord in coords])"
   ]
  },
  {
   "cell_type": "code",
   "execution_count": null,
   "id": "1f2fe825-e855-4208-a048-1479ad2590e7",
   "metadata": {},
   "outputs": [],
   "source": []
  }
 ],
 "metadata": {
  "kernelspec": {
   "display_name": "dproj",
   "language": "python",
   "name": "dproj"
  },
  "language_info": {
   "codemirror_mode": {
    "name": "ipython",
    "version": 3
   },
   "file_extension": ".py",
   "mimetype": "text/x-python",
   "name": "python",
   "nbconvert_exporter": "python",
   "pygments_lexer": "ipython3",
   "version": "3.11.0"
  }
 },
 "nbformat": 4,
 "nbformat_minor": 5
}
