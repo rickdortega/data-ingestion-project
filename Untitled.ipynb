{
 "cells": [
  {
   "cell_type": "code",
   "execution_count": 7,
   "id": "060db309-c102-436c-83b9-ac559652874f",
   "metadata": {
    "tags": []
   },
   "outputs": [],
   "source": [
    "from sqlmodel import Session\n",
    "from db import create_db_and_tables, teardown_db, get_engine\n",
    "from models import FilmLocation\n",
    "from get_data import film_locations"
   ]
  },
  {
   "cell_type": "code",
   "execution_count": 14,
   "id": "e6710399-fa26-4904-9b7b-6aa429db9359",
   "metadata": {
    "tags": []
   },
   "outputs": [
    {
     "data": {
      "text/plain": [
       "{'title': '180',\n",
       " 'release_year': '2011',\n",
       " 'locations': 'Epic Roasthouse (399 Embarcadero)',\n",
       " 'production_company': 'SPI Cinemas',\n",
       " 'director': 'Jayendra',\n",
       " 'writer': 'Umarji Anuradha, Jayendra, Aarthi Sriram, & Suba',\n",
       " 'actor_1': 'Siddarth',\n",
       " 'actor_2': 'Nithya Menon',\n",
       " 'actor_3': 'Priya Anand'}"
      ]
     },
     "execution_count": 14,
     "metadata": {},
     "output_type": "execute_result"
    }
   ],
   "source": [
    "f = film_locations[0]\n",
    "f"
   ]
  },
  {
   "cell_type": "code",
   "execution_count": 9,
   "id": "0172042b-dd0c-4d40-aed7-937312539fe7",
   "metadata": {
    "tags": []
   },
   "outputs": [],
   "source": [
    "fl = FilmLocation(**f)"
   ]
  },
  {
   "cell_type": "code",
   "execution_count": 10,
   "id": "a4e7fd20-78a3-449c-84fa-e9e0d524a93e",
   "metadata": {
    "tags": []
   },
   "outputs": [
    {
     "name": "stdout",
     "output_type": "stream",
     "text": [
      "2023-03-17 23:20:24,910 INFO sqlalchemy.engine.Engine BEGIN (implicit)\n",
      "2023-03-17 23:20:24,912 INFO sqlalchemy.engine.Engine INSERT INTO filmlocation (title, release_year, locations, production_company, director, writer, actor_1, actor_2, actor_3) VALUES (?, ?, ?, ?, ?, ?, ?, ?, ?)\n",
      "2023-03-17 23:20:24,913 INFO sqlalchemy.engine.Engine [generated in 0.00082s] ('180', 2011, 'Epic Roasthouse (399 Embarcadero)', 'SPI Cinemas', 'Jayendra', '[\"Umarji Anuradha\", \"Jayendra\", \"Aarthi Sriram\", \"Suba\"]', 'Siddarth', 'Nithya Menon', 'Priya Anand')\n",
      "2023-03-17 23:20:24,914 INFO sqlalchemy.engine.Engine COMMIT\n"
     ]
    }
   ],
   "source": [
    "engine = get_engine()\n",
    "with Session(engine) as sess:\n",
    "    sess.add(fl)\n",
    "    sess.commit()"
   ]
  },
  {
   "cell_type": "code",
   "execution_count": 13,
   "id": "28e6fc4c-feee-415b-b9e9-1c5bba311191",
   "metadata": {
    "tags": []
   },
   "outputs": [
    {
     "data": {
      "text/plain": [
       "'string'"
      ]
     },
     "execution_count": 13,
     "metadata": {},
     "output_type": "execute_result"
    }
   ],
   "source": [
    "'This is a (string)'.split('(')[1].strip(')')"
   ]
  },
  {
   "cell_type": "code",
   "execution_count": 15,
   "id": "4297fcf1-ed81-4f04-b7b3-cb7bf9da9d93",
   "metadata": {
    "tags": []
   },
   "outputs": [
    {
     "ename": "NameError",
     "evalue": "name 'condecimal' is not defined",
     "output_type": "error",
     "traceback": [
      "\u001b[0;31m---------------------------------------------------------------------------\u001b[0m",
      "\u001b[0;31mNameError\u001b[0m                                 Traceback (most recent call last)",
      "Cell \u001b[0;32mIn[15], line 1\u001b[0m\n\u001b[0;32m----> 1\u001b[0m \u001b[43mcondecimal\u001b[49m\n",
      "\u001b[0;31mNameError\u001b[0m: name 'condecimal' is not defined"
     ]
    }
   ],
   "source": [
    "condecimal"
   ]
  },
  {
   "cell_type": "code",
   "execution_count": 16,
   "id": "438c3b3e-ad12-45bb-8bf7-8e47125b6cb4",
   "metadata": {
    "tags": []
   },
   "outputs": [],
   "source": [
    "from pydantic import condecimal"
   ]
  },
  {
   "cell_type": "code",
   "execution_count": 17,
   "id": "a688dbe3-c340-410c-b42a-f35f1c610cf2",
   "metadata": {
    "tags": []
   },
   "outputs": [
    {
     "data": {
      "text/plain": [
       "<cyfunction condecimal at 0x1147a7100>"
      ]
     },
     "execution_count": 17,
     "metadata": {},
     "output_type": "execute_result"
    }
   ],
   "source": [
    "condecimal"
   ]
  },
  {
   "cell_type": "code",
   "execution_count": null,
   "id": "ca438fe4-7458-421a-85ac-bffd68b3c2fe",
   "metadata": {},
   "outputs": [],
   "source": []
  }
 ],
 "metadata": {
  "kernelspec": {
   "display_name": "Python 3 (ipykernel)",
   "language": "python",
   "name": "python3"
  },
  "language_info": {
   "codemirror_mode": {
    "name": "ipython",
    "version": 3
   },
   "file_extension": ".py",
   "mimetype": "text/x-python",
   "name": "python",
   "nbconvert_exporter": "python",
   "pygments_lexer": "ipython3",
   "version": "3.11.0"
  }
 },
 "nbformat": 4,
 "nbformat_minor": 5
}
