{
 "cells": [
  {
   "cell_type": "code",
   "execution_count": 1,
   "id": "63d4b9d9-7350-4381-8040-8a7c8e3e1555",
   "metadata": {
    "tags": []
   },
   "outputs": [],
   "source": [
    "from typing import Optional, Dict, List, Tuple\n",
    "import requests\n",
    "from sqlmodel import SQLModel, create_engine, Field, Session, select\n",
    "from pydantic import validator\n",
    "\n",
    "pd.set_option('display.max_rows', 1000)"
   ]
  },
  {
   "cell_type": "code",
   "execution_count": 2,
   "id": "67a8d2d7-6fa2-4466-a2f8-68307aff06a4",
   "metadata": {
    "tags": []
   },
   "outputs": [],
   "source": [
    "def clean_brackets(input_str: str) -> str:\n",
    "    brackets = ['{', '}']\n",
    "    for bracket in brackets:\n",
    "        input_str = input_str.replace(bracket, '')\n",
    "    return input_str"
   ]
  },
  {
   "cell_type": "code",
   "execution_count": 3,
   "id": "c6b8cb81-97f4-4ee9-a1eb-4b1724140236",
   "metadata": {
    "tags": []
   },
   "outputs": [],
   "source": [
    "class BasicModel(SQLModel, table=True):\n",
    "    id: Optional[int] = Field(default=None, primary_key=True)\n",
    "    name: str\n",
    "    _clean_name = validator('name', pre=True, allow_reuse=True)(clean_brackets)\n",
    "    age: int"
   ]
  },
  {
   "cell_type": "code",
   "execution_count": 4,
   "id": "533abf8d-619e-47bb-ab36-bb96d1810689",
   "metadata": {
    "tags": []
   },
   "outputs": [
    {
     "name": "stdout",
     "output_type": "stream",
     "text": [
      "2023-03-16 16:52:22,905 INFO sqlalchemy.engine.Engine BEGIN (implicit)\n",
      "2023-03-16 16:52:22,906 INFO sqlalchemy.engine.Engine PRAGMA main.table_info(\"basicmodel\")\n",
      "2023-03-16 16:52:22,907 INFO sqlalchemy.engine.Engine [raw sql] ()\n",
      "2023-03-16 16:52:22,908 INFO sqlalchemy.engine.Engine COMMIT\n"
     ]
    }
   ],
   "source": [
    "sqlite_file_name = \"database.db\"\n",
    "sqlite_url = f\"sqlite:///{sqlite_file_name}\"\n",
    "# connect_args = {\"check_same_thread\": False}\n",
    "engine = create_engine(sqlite_url, echo=True)\n",
    "\n",
    "def create_db_and_tables():\n",
    "    SQLModel.metadata.create_all(engine)\n",
    "create_db_and_tables()"
   ]
  },
  {
   "cell_type": "code",
   "execution_count": 5,
   "id": "fb7aa3eb-3001-4cdf-9053-54197deffcc7",
   "metadata": {
    "tags": []
   },
   "outputs": [
    {
     "data": {
      "text/plain": [
       "BasicModel(id=None, name='Rick', age=34)"
      ]
     },
     "execution_count": 5,
     "metadata": {},
     "output_type": "execute_result"
    }
   ],
   "source": [
    "obj_1 = BasicModel(\n",
    "    name = '{Rick}',\n",
    "    age = 34\n",
    ")\n",
    "obj_1"
   ]
  },
  {
   "cell_type": "code",
   "execution_count": 6,
   "id": "a1c9629e-fba7-4097-a648-b0f4f84b882d",
   "metadata": {
    "tags": []
   },
   "outputs": [
    {
     "name": "stdout",
     "output_type": "stream",
     "text": [
      "2023-03-16 16:52:29,719 INFO sqlalchemy.engine.Engine BEGIN (implicit)\n",
      "2023-03-16 16:52:29,721 INFO sqlalchemy.engine.Engine INSERT INTO basicmodel (name, age) VALUES (?, ?)\n",
      "2023-03-16 16:52:29,722 INFO sqlalchemy.engine.Engine [generated in 0.00096s] ('Rick', 34)\n",
      "2023-03-16 16:52:29,724 INFO sqlalchemy.engine.Engine COMMIT\n"
     ]
    }
   ],
   "source": [
    "with Session(engine) as sess:\n",
    "    sess.add(obj_1)\n",
    "    sess.commit()"
   ]
  },
  {
   "cell_type": "code",
   "execution_count": 7,
   "id": "a93be11c-a1a4-495a-9be3-eeeec85155b9",
   "metadata": {
    "tags": []
   },
   "outputs": [
    {
     "name": "stdout",
     "output_type": "stream",
     "text": [
      "2023-03-16 16:52:32,339 INFO sqlalchemy.engine.Engine BEGIN (implicit)\n",
      "2023-03-16 16:52:32,343 INFO sqlalchemy.engine.Engine SELECT basicmodel.id, basicmodel.name, basicmodel.age \n",
      "FROM basicmodel\n",
      "2023-03-16 16:52:32,345 INFO sqlalchemy.engine.Engine [generated in 0.00126s] ()\n",
      "age=34 id=1 name='Rick'\n",
      "age=35 id=2 name='Rick2'\n",
      "age=35 id=3 name='Rick2'\n",
      "age=34 id=4 name='Rick'\n",
      "2023-03-16 16:52:32,347 INFO sqlalchemy.engine.Engine ROLLBACK\n"
     ]
    }
   ],
   "source": [
    "with Session(engine) as session:\n",
    "    statement = select(BasicModel)\n",
    "    results = session.exec(statement) \n",
    "    for record in results:\n",
    "        print(record)"
   ]
  },
  {
   "cell_type": "code",
   "execution_count": 15,
   "id": "62bd5871-998f-4d6d-96fa-15c9a5220628",
   "metadata": {
    "tags": []
   },
   "outputs": [],
   "source": [
    "my_dict = {\n",
    "    'name' : 'Rick2',\n",
    "    'age' : 35,\n",
    "    'gender' : 'm'\n",
    "}"
   ]
  },
  {
   "cell_type": "code",
   "execution_count": 18,
   "id": "5926c602-a9a7-4a4e-9374-4e09235ee2c8",
   "metadata": {
    "tags": []
   },
   "outputs": [
    {
     "data": {
      "text/plain": [
       "BasicModel(id=None, name='Rick2', age=35)"
      ]
     },
     "execution_count": 18,
     "metadata": {},
     "output_type": "execute_result"
    }
   ],
   "source": [
    "obj_3 = BasicModel(**my_dict)\n",
    "obj_3"
   ]
  },
  {
   "cell_type": "code",
   "execution_count": 79,
   "id": "78b226ad-ecf5-4a62-af6b-e48d04677daa",
   "metadata": {
    "tags": []
   },
   "outputs": [
    {
     "data": {
      "text/plain": [
       "BasicModel()"
      ]
     },
     "execution_count": 79,
     "metadata": {},
     "output_type": "execute_result"
    }
   ],
   "source": [
    "obj_3"
   ]
  },
  {
   "cell_type": "code",
   "execution_count": 19,
   "id": "72a6de73-976e-4fe8-a487-00cf0bb68293",
   "metadata": {
    "tags": []
   },
   "outputs": [
    {
     "name": "stdout",
     "output_type": "stream",
     "text": [
      "2023-03-16 13:55:51,020 INFO sqlalchemy.engine.Engine BEGIN (implicit)\n",
      "2023-03-16 13:55:51,021 INFO sqlalchemy.engine.Engine INSERT INTO basicmodel (name, age) VALUES (?, ?)\n",
      "2023-03-16 13:55:51,022 INFO sqlalchemy.engine.Engine [cached since 201.2s ago] ('Rick2', 35)\n",
      "2023-03-16 13:55:51,023 INFO sqlalchemy.engine.Engine COMMIT\n"
     ]
    }
   ],
   "source": [
    "with Session(engine) as sess:\n",
    "    sess.add(obj_3)\n",
    "    sess.commit()"
   ]
  },
  {
   "cell_type": "code",
   "execution_count": null,
   "id": "9b791add-d6e9-447d-9323-d521ab34b35f",
   "metadata": {},
   "outputs": [],
   "source": []
  },
  {
   "cell_type": "code",
   "execution_count": null,
   "id": "70f10f44-1d4b-4aca-8192-b42fc96966c5",
   "metadata": {},
   "outputs": [],
   "source": []
  },
  {
   "cell_type": "code",
   "execution_count": 14,
   "id": "027bd3ce-7afe-488c-b776-59d07e7160e3",
   "metadata": {
    "tags": []
   },
   "outputs": [],
   "source": [
    "url = 'https://data.sfgov.org/resource/gtr9-ntp6.json'\n",
    "properties = requests.get(url).json\n"
   ]
  },
  {
   "cell_type": "code",
   "execution_count": 30,
   "id": "024ef708-6129-4a5d-be37-d6cd4b2a12e8",
   "metadata": {
    "tags": []
   },
   "outputs": [
    {
     "data": {
      "text/plain": [
       "Counter({'objectid': 240,\n",
       "         'map_label': 240,\n",
       "         'longitude': 240,\n",
       "         'latitude': 240,\n",
       "         'acres': 240,\n",
       "         'tma_propertyid': 240,\n",
       "         'globalid': 240,\n",
       "         'created_user': 240,\n",
       "         'created_date': 240,\n",
       "         'last_edited_user': 240,\n",
       "         'last_edited_date': 240,\n",
       "         'squarefeet': 240,\n",
       "         'perimeterlength': 240,\n",
       "         'propertytype': 240,\n",
       "         'address': 240,\n",
       "         'city': 240,\n",
       "         'state': 240,\n",
       "         'zipcode': 240,\n",
       "         'complex': 240,\n",
       "         'psa': 240,\n",
       "         'supdist': 240,\n",
       "         'ownership': 239,\n",
       "         'land_id': 238,\n",
       "         'ggp_section': 237,\n",
       "         'state_senate': 237,\n",
       "         'mons_neighborhood': 240,\n",
       "         'police_district': 237,\n",
       "         'us_congress': 237,\n",
       "         'realtor_neighborhood': 239,\n",
       "         'state_assembly': 237,\n",
       "         'planning_neighborhood': 240,\n",
       "         'shape': 240})"
      ]
     },
     "execution_count": 30,
     "metadata": {},
     "output_type": "execute_result"
    }
   ],
   "source": [
    "from collections import Counter\n",
    "keys = Counter()\n",
    "for record in r.json():\n",
    "    for k in record:\n",
    "        keys[k] += 1\n",
    "keys"
   ]
  },
  {
   "cell_type": "code",
   "execution_count": 27,
   "id": "bfb30972-1b0d-479c-9cc2-1c9e7e5afe93",
   "metadata": {
    "tags": []
   },
   "outputs": [
    {
     "data": {
      "text/plain": [
       "{'objectid': '1',\n",
       " 'map_label': 'Maritime Plaza',\n",
       " 'longitude': '-122.39982015',\n",
       " 'latitude': '37.7955308',\n",
       " 'acres': '2.01276398',\n",
       " 'tma_propertyid': '142',\n",
       " 'globalid': '{C7DDE53A-9636-451E-AB81-6CD8EA8064BB}',\n",
       " 'created_user': 'rpdgis',\n",
       " 'created_date': '20130524085732',\n",
       " 'last_edited_user': 'RPDGIS@RPDGIS.SFGOV.ORG',\n",
       " 'last_edited_date': '20220921224743',\n",
       " 'squarefeet': '87675.99885853',\n",
       " 'perimeterlength': '3208.81540812',\n",
       " 'propertytype': 'Civic Plaza or Square',\n",
       " 'address': '285 Washington Street',\n",
       " 'city': 'San Francisco',\n",
       " 'state': 'CA',\n",
       " 'zipcode': '94111',\n",
       " 'complex': 'North Beach Complex',\n",
       " 'psa': 'PSA1',\n",
       " 'supdist': '3',\n",
       " 'ownership': 'Real Estate',\n",
       " 'land_id': '304',\n",
       " 'ggp_section': 'N/A',\n",
       " 'state_senate': '11th Senatorial District',\n",
       " 'mons_neighborhood': 'Financial District',\n",
       " 'police_district': 'Central',\n",
       " 'us_congress': '12th Congressional District',\n",
       " 'realtor_neighborhood': 'Financial District/Barbary Coast',\n",
       " 'state_assembly': '17th Assembly District',\n",
       " 'planning_neighborhood': 'Financial District',\n",
       " 'shape': {'type': 'MultiPolygon',\n",
       "  'coordinates': [[[[-122.39907987164456, 37.79596235081184],\n",
       "     [-122.39824864882208, 37.79606828701633],\n",
       "     [-122.3981153271089, 37.795411924570544],\n",
       "     [-122.39894654332787, 37.79530601091307],\n",
       "     [-122.39896563415347, 37.79540001239579],\n",
       "     [-122.39898955465019, 37.79539696500384],\n",
       "     [-122.39908469213766, 37.79586530389431],\n",
       "     [-122.39906077260619, 37.79586835038614],\n",
       "     [-122.39907987164456, 37.79596235081184]],\n",
       "    [[-122.39858309684661, 37.79540795564323],\n",
       "     [-122.39836695760364, 37.795435495946194],\n",
       "     [-122.39839830358135, 37.79558979662564],\n",
       "     [-122.398253372537, 37.79560833174958],\n",
       "     [-122.39830202634647, 37.79584783086952],\n",
       "     [-122.39844695671083, 37.79582929570486],\n",
       "     [-122.3984782547456, 37.79598339615935],\n",
       "     [-122.3986943862988, 37.795955849495556],\n",
       "     [-122.39858309684661, 37.79540795564323]]],\n",
       "   [[[-122.39937368121338, 37.795251584636574],\n",
       "     [-122.40022527447519, 37.79514306713672],\n",
       "     [-122.40034703126986, 37.79580084585293],\n",
       "     [-122.39950701402005, 37.79590791142899],\n",
       "     [-122.399487914455, 37.79581391107152],\n",
       "     [-122.39946399379834, 37.79581695676262],\n",
       "     [-122.3993688554386, 37.79534863076742],\n",
       "     [-122.3993927759483, 37.79534558509536],\n",
       "     [-122.39937368121338, 37.795251584636574]],\n",
       "    [[-122.39995170707067, 37.79523355797865],\n",
       "     [-122.39973557553897, 37.79526109617678],\n",
       "     [-122.3998460481297, 37.795809097778765],\n",
       "     [-122.40006218121535, 37.79578155938094],\n",
       "     [-122.40003319215683, 37.79563775175559],\n",
       "     [-122.4001781444591, 37.795619350178455],\n",
       "     [-122.40012357003918, 37.795348652607096],\n",
       "     [-122.39997861695518, 37.79536704783049],\n",
       "     [-122.39995170707067, 37.79523355797865]]]]}}"
      ]
     },
     "execution_count": 27,
     "metadata": {},
     "output_type": "execute_result"
    }
   ],
   "source": [
    "r.json()[0]"
   ]
  },
  {
   "cell_type": "code",
   "execution_count": 9,
   "id": "99a3621e-58b9-4cb6-b95b-943ce13a11cc",
   "metadata": {
    "tags": []
   },
   "outputs": [],
   "source": [
    "import pandas as pd\n",
    "df = pd.DataFrame(r.json())"
   ]
  },
  {
   "cell_type": "code",
   "execution_count": 26,
   "id": "06faccd8-dcd4-49c9-9f84-43f3d636aff2",
   "metadata": {
    "tags": []
   },
   "outputs": [
    {
     "data": {
      "text/plain": [
       "0                                    Financial District\n",
       "1                                             Lakeshore\n",
       "2                                              Nob Hill\n",
       "3                                    West of Twin Peaks\n",
       "4                                 Downtown/Civic Center\n",
       "5                                        Bernal Heights\n",
       "6                           Visitacion Valley,Excelsior\n",
       "7                                        Bernal Heights\n",
       "8                                        Bernal Heights\n",
       "9                                             Excelsior\n",
       "10                                        Outer Mission\n",
       "11                                            Glen Park\n",
       "12                                               Marina\n",
       "13                                       Bernal Heights\n",
       "14                                    Visitacion Valley\n",
       "15                                       Haight Ashbury\n",
       "16                                   West of Twin Peaks\n",
       "17                                     Western Addition\n",
       "18                                             Presidio\n",
       "19     Outer Sunset,Lakeshore,Golden Gate Park,Parkside\n",
       "20                                      Marina,Presidio\n",
       "21                                   West of Twin Peaks\n",
       "22                                           Ocean View\n",
       "23                                           Twin Peaks\n",
       "24                                       Outer Richmond\n",
       "25                                Downtown/Civic Center\n",
       "26                                Downtown/Civic Center\n",
       "27                                      Pacific Heights\n",
       "28                                           Noe Valley\n",
       "29                                Downtown/Civic Center\n",
       "30                                       Bernal Heights\n",
       "31                                       Bernal Heights\n",
       "32                                         Inner Sunset\n",
       "33                                      South of Market\n",
       "34                                        Outer Mission\n",
       "35                                     Western Addition\n",
       "36                                            Lakeshore\n",
       "37                                         Russian Hill\n",
       "38                                       Bernal Heights\n",
       "39                                       Bernal Heights\n",
       "40                                      Diamond Heights\n",
       "41                                      Diamond Heights\n",
       "42                                           Outside SF\n",
       "43                                            Lakeshore\n",
       "44                                        Outer Mission\n",
       "45                                              Bayview\n",
       "46                                       Bernal Heights\n",
       "47                                         Inner Sunset\n",
       "48                                  Castro/Upper Market\n",
       "49                                           Outside SF\n",
       "50                                 Glen Park,Noe Valley\n",
       "51                                             Seacliff\n",
       "52                                             Seacliff\n",
       "53                                              Bayview\n",
       "54                                       Bernal Heights\n",
       "55                                   West of Twin Peaks\n",
       "56                                Downtown/Civic Center\n",
       "57                                   Financial District\n",
       "58                                  Castro/Upper Market\n",
       "59                                         Potrero Hill\n",
       "60                                           Twin Peaks\n",
       "61                                  Castro/Upper Market\n",
       "62                                       Inner Richmond\n",
       "63                                         Potrero Hill\n",
       "64                                      South of Market\n",
       "65                                              Mission\n",
       "66                                     Western Addition\n",
       "67                                       Crocker Amazon\n",
       "68                                         Russian Hill\n",
       "69                                   West of Twin Peaks\n",
       "70                                       Inner Richmond\n",
       "71                                         Potrero Hill\n",
       "72                                         Potrero Hill\n",
       "73                                         Potrero Hill\n",
       "74                                            Glen Park\n",
       "75                                        Outer Mission\n",
       "76                                              Bayview\n",
       "77                                     Western Addition\n",
       "78                                       Bernal Heights\n",
       "79                                       Bernal Heights\n",
       "80                                       Outer Richmond\n",
       "81                                        Outer Mission\n",
       "82                                             Nob Hill\n",
       "83                                        Outer Mission\n",
       "84                                           Noe Valley\n",
       "85                                            Glen Park\n",
       "86                                            Glen Park\n",
       "87                                              Bayview\n",
       "88                                           Ocean View\n",
       "89                                               Marina\n",
       "90                                             Nob Hill\n",
       "91                                            Chinatown\n",
       "92                                         Outer Sunset\n",
       "93                             North Beach,Russian Hill\n",
       "94                                             Nob Hill\n",
       "95                                            Glen Park\n",
       "96                                    Visitacion Valley\n",
       "97                                      South of Market\n",
       "98                                              Mission\n",
       "99                                           Noe Valley\n",
       "100                               Downtown/Civic Center\n",
       "101                                     Diamond Heights\n",
       "102                               Downtown/Civic Center\n",
       "103                                      Haight Ashbury\n",
       "104                                        Outer Sunset\n",
       "105                                       Outer Mission\n",
       "106                                 Castro/Upper Market\n",
       "107                                           Chinatown\n",
       "108                                      Bernal Heights\n",
       "109                                            Parkside\n",
       "110                                             Bayview\n",
       "111                                           Lakeshore\n",
       "112                               Downtown/Civic Center\n",
       "113                                 Castro/Upper Market\n",
       "114                                             Bayview\n",
       "115                                 Castro/Upper Market\n",
       "116                                           Lakeshore\n",
       "117                                        Inner Sunset\n",
       "118                                             Bayview\n",
       "119                                             Bayview\n",
       "120                                      Inner Richmond\n",
       "121                                      Inner Richmond\n",
       "122                                    Western Addition\n",
       "123                                          Ocean View\n",
       "124                                    Presidio Heights\n",
       "125                                      Bernal Heights\n",
       "126                                           Chinatown\n",
       "127                                 Castro/Upper Market\n",
       "128                                             Mission\n",
       "129                                           Excelsior\n",
       "130                                    Western Addition\n",
       "131                                          Noe Valley\n",
       "132                                      Inner Richmond\n",
       "133                             Presidio,Inner Richmond\n",
       "134                                              Marina\n",
       "135                                  West of Twin Peaks\n",
       "136                                        Russian Hill\n",
       "137                                          Ocean View\n",
       "138                                            Parkside\n",
       "139                                    Western Addition\n",
       "140                                    Western Addition\n",
       "141                                   Visitacion Valley\n",
       "142                                      Inner Richmond\n",
       "143                                        Inner Sunset\n",
       "144                                          Noe Valley\n",
       "145                                             Bayview\n",
       "146                                             Mission\n",
       "147                                              Marina\n",
       "148                                     Pacific Heights\n",
       "149                                      Outer Richmond\n",
       "150                                    Western Addition\n",
       "151                                      Haight Ashbury\n",
       "152                                    Western Addition\n",
       "153                                            Parkside\n",
       "154                                            Nob Hill\n",
       "155                                      Bernal Heights\n",
       "156                                    Western Addition\n",
       "157                                   Visitacion Valley\n",
       "158                                    Western Addition\n",
       "159                                        Potrero Hill\n",
       "160                                           Excelsior\n",
       "161                               Downtown/Civic Center\n",
       "162                                        Russian Hill\n",
       "163                                             Mission\n",
       "164                                             Mission\n",
       "165                                     South of Market\n",
       "166                                       Outer Mission\n",
       "167                                     Diamond Heights\n",
       "168                                             Bayview\n",
       "169                                    Western Addition\n",
       "170                                        Inner Sunset\n",
       "171                                      Haight Ashbury\n",
       "172                                    Western Addition\n",
       "173                                    Western Addition\n",
       "174                                            Nob Hill\n",
       "175                                        Russian Hill\n",
       "176                                        Russian Hill\n",
       "177                                  West of Twin Peaks\n",
       "178                                        Potrero Hill\n",
       "179                                    Western Addition\n",
       "180                                             Mission\n",
       "181                                           Lakeshore\n",
       "182                                             Mission\n",
       "183                                   Visitacion Valley\n",
       "184                                             Mission\n",
       "185                                    Western Addition\n",
       "186                                    Presidio Heights\n",
       "187                                             Bayview\n",
       "188                                    Western Addition\n",
       "189                                 Castro/Upper Market\n",
       "190                                          Noe Valley\n",
       "191                                     South of Market\n",
       "192                                        Russian Hill\n",
       "193                                        Inner Sunset\n",
       "194                                         North Beach\n",
       "195                                          Ocean View\n",
       "196                                         North Beach\n",
       "197                             Mission,South of Market\n",
       "198                             Mission,South of Market\n",
       "199                                   Visitacion Valley\n",
       "200                                             Bayview\n",
       "201                                 Castro/Upper Market\n",
       "202                                             Mission\n",
       "203                                      Inner Richmond\n",
       "204                                       Outer Mission\n",
       "205                                          Noe Valley\n",
       "206                                      Outer Richmond\n",
       "207                                 Castro/Upper Market\n",
       "208                                    Western Addition\n",
       "209                                      Outer Richmond\n",
       "210                                         North Beach\n",
       "211                                     Pacific Heights\n",
       "212                                 Castro/Upper Market\n",
       "213                                             Mission\n",
       "214                                             Mission\n",
       "215                                             Bayview\n",
       "216                                            Parkside\n",
       "217                                           Lakeshore\n",
       "218                                          Noe Valley\n",
       "219                                             Mission\n",
       "220                                  Financial District\n",
       "221                                       Outer Mission\n",
       "222                                  West of Twin Peaks\n",
       "223                                             Bayview\n",
       "224                                          Ocean View\n",
       "225                                             Mission\n",
       "226                                         North Beach\n",
       "227                                    Golden Gate Park\n",
       "228                     Golden Gate Park,Haight Ashbury\n",
       "229                                    Golden Gate Park\n",
       "230                                    Golden Gate Park\n",
       "231                                    Golden Gate Park\n",
       "232                                    Golden Gate Park\n",
       "233                                    Golden Gate Park\n",
       "234                                    Golden Gate Park\n",
       "235                                        Inner Sunset\n",
       "236                                     South of Market\n",
       "237                                             Bayview\n",
       "238                                     Diamond Heights\n",
       "239                             Twin Peaks,Inner Sunset\n",
       "Name: planning_neighborhood, dtype: object"
      ]
     },
     "execution_count": 26,
     "metadata": {},
     "output_type": "execute_result"
    }
   ],
   "source": [
    "df['planning_neighborhood']"
   ]
  },
  {
   "cell_type": "code",
   "execution_count": 64,
   "id": "ce527f2b-7193-4113-81d7-9d3d3b674fc0",
   "metadata": {
    "tags": []
   },
   "outputs": [
    {
     "name": "stdout",
     "output_type": "stream",
     "text": [
      "'\n",
      "\n",
      "{\n",
      "|\n"
     ]
    }
   ],
   "source": [
    "replacements = [(\"'\", \"\"), (\"{\", \"|\")]\n",
    "for r in replacements:\n",
    "    print(r[0])\n",
    "    print(r[1])"
   ]
  },
  {
   "cell_type": "code",
   "execution_count": 44,
   "id": "75c8a3b2-b9d5-4dbb-902a-8a111cc692f7",
   "metadata": {
    "tags": []
   },
   "outputs": [
    {
     "data": {
      "text/plain": [
       "7.891666666666667"
      ]
     },
     "execution_count": 44,
     "metadata": {},
     "output_type": "execute_result"
    }
   ],
   "source": [
    "lats = df['latitude'].str.split('.')\n",
    "decimal_lengths =[]\n",
    "for lat in lats:\n",
    "    decimal_lengths.append(len(lat[1]))\n",
    "sum(decimal_lengths)/len(decimal_lengths)"
   ]
  },
  {
   "cell_type": "code",
   "execution_count": 27,
   "id": "ffd70751-5c18-4fb9-8935-cae759090655",
   "metadata": {
    "tags": []
   },
   "outputs": [
    {
     "name": "stdout",
     "output_type": "stream",
     "text": [
      "None\n",
      "No. Sign in interior atrium only says \"roof garden\"\n",
      "None\n",
      "None\n",
      "None\n",
      "None\n"
     ]
    },
    {
     "ename": "KeyError",
     "evalue": "'signage'",
     "output_type": "error",
     "traceback": [
      "\u001b[0;31m---------------------------------------------------------------------------\u001b[0m",
      "\u001b[0;31mKeyError\u001b[0m                                  Traceback (most recent call last)",
      "Cell \u001b[0;32mIn[27], line 3\u001b[0m\n\u001b[1;32m      1\u001b[0m signages \u001b[38;5;241m=\u001b[39m []\n\u001b[1;32m      2\u001b[0m \u001b[38;5;28;01mfor\u001b[39;00m record \u001b[38;5;129;01min\u001b[39;00m r\u001b[38;5;241m.\u001b[39mjson():\n\u001b[0;32m----> 3\u001b[0m     \u001b[38;5;28mprint\u001b[39m(\u001b[43mrecord\u001b[49m\u001b[43m[\u001b[49m\u001b[38;5;124;43m'\u001b[39;49m\u001b[38;5;124;43msignage\u001b[39;49m\u001b[38;5;124;43m'\u001b[39;49m\u001b[43m]\u001b[49m)\n",
      "\u001b[0;31mKeyError\u001b[0m: 'signage'"
     ]
    }
   ],
   "source": [
    "signages = []\n",
    "for record in r.json():\n",
    "    print(record['signage'])"
   ]
  },
  {
   "cell_type": "code",
   "execution_count": 32,
   "id": "9246d561-3a55-4eba-abe7-d03afbb2d750",
   "metadata": {
    "tags": []
   },
   "outputs": [
    {
     "data": {
      "text/plain": [
       "{'name': '100 Pine St',\n",
       " 'popos_address': '100 Pine St',\n",
       " 'type': 'Urban Garden',\n",
       " 'landscaping': 'Planting and flowers',\n",
       " 'food_service': 'Yes.',\n",
       " 'year': '1972',\n",
       " 'food': 'Y',\n",
       " 'seating': 'Y',\n",
       " 'description': 'This Urban Garden is either accessed through the front entrance of the building or a narrow walkway on Front Street. This space offers water fountains, landscaping, and art.',\n",
       " 'seating_and_tables': 'Y',\n",
       " 'hours_type': 'Open Business Hours',\n",
       " 'subject_to_downtown_pln': 'No',\n",
       " 'block_num': '0262',\n",
       " 'lot_num': '020',\n",
       " 'parcel_num': '0262020',\n",
       " 'the_geom': {'type': 'Point', 'coordinates': [-122.39915923, 37.79273921]},\n",
       " ':@computed_region_6qbp_sg9q': '108',\n",
       " ':@computed_region_qgnn_b9vv': '6',\n",
       " ':@computed_region_26cr_cadq': '3',\n",
       " ':@computed_region_ajp5_b2md': '8',\n",
       " ':@computed_region_rxqg_mtj9': '10',\n",
       " ':@computed_region_yftq_j783': '4',\n",
       " ':@computed_region_jx4q_fizf': '1',\n",
       " ':@computed_region_bh8s_q3mv': '28860',\n",
       " ':@computed_region_jwn9_ihcz': '108'}"
      ]
     },
     "execution_count": 32,
     "metadata": {},
     "output_type": "execute_result"
    }
   ],
   "source": [
    "r.json()[6]"
   ]
  },
  {
   "cell_type": "code",
   "execution_count": 56,
   "id": "502d5981-f434-42a6-bad7-110522f99e59",
   "metadata": {
    "tags": []
   },
   "outputs": [],
   "source": [
    "from functools import partial"
   ]
  },
  {
   "cell_type": "code",
   "execution_count": 57,
   "id": "2b66f431-e040-45be-b5e3-db208ce8084a",
   "metadata": {
    "tags": []
   },
   "outputs": [
    {
     "data": {
      "text/plain": [
       "functools.partial"
      ]
     },
     "execution_count": 57,
     "metadata": {},
     "output_type": "execute_result"
    }
   ],
   "source": [
    "partial("
   ]
  },
  {
   "cell_type": "code",
   "execution_count": null,
   "id": "e7b7629b-59a7-419e-8ce1-ea3cd5f28395",
   "metadata": {},
   "outputs": [],
   "source": []
  }
 ],
 "metadata": {
  "kernelspec": {
   "display_name": "dproj",
   "language": "python",
   "name": "dproj"
  },
  "language_info": {
   "codemirror_mode": {
    "name": "ipython",
    "version": 3
   },
   "file_extension": ".py",
   "mimetype": "text/x-python",
   "name": "python",
   "nbconvert_exporter": "python",
   "pygments_lexer": "ipython3",
   "version": "3.10.4"
  }
 },
 "nbformat": 4,
 "nbformat_minor": 5
}
